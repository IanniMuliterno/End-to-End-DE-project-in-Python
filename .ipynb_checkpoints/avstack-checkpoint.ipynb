{
 "cells": [
  {
   "cell_type": "markdown",
   "metadata": {},
   "source": [
    "# Step 1 - automated data ingestion"
   ]
  },
  {
   "cell_type": "code",
   "execution_count": 1,
   "metadata": {},
   "outputs": [],
   "source": [
    "import requests\n",
    "from datetime import datetime, timedelta\n",
    "from os import environ\n",
    "import pandas as pd\n",
    "\n",
    "api_key = environ.get('aviation_key')\n",
    "api_url = 'https://api.aviationstack.com/v1/flights'\n",
    "\n",
    "def daterange(start_date, end_date):\n",
    "    for n in range(int((end_date - start_date).days) + 1):\n",
    "        yield start_date + timedelta(n)\n",
    "\n",
    "def fetch_flights_for_date(flight_date, airline):\n",
    "    params = {\n",
    "        'access_key': api_key,\n",
    "        'flight_date': flight_date.strftime('%Y-%m-%d'),\n",
    "        'airline_name': airline\n",
    "    }\n",
    "    \n",
    "    response = requests.get(api_url, params=params)\n",
    "    if response.status_code == 200:\n",
    "        data = response.json().get('data', [])\n",
    "        return data\n",
    "    else:\n",
    "        print(f\"Failed to fetch data for {flight_date}: {response.status_code}\")\n",
    "        return []\n",
    "\n",
    "def fetch_flights(airline, start_date_str, end_date_str):\n",
    "    start_date = datetime.strptime(start_date_str, '%Y-%m-%d')\n",
    "    end_date = datetime.strptime(end_date_str, '%Y-%m-%d')\n",
    "    all_flights = []\n",
    "\n",
    "    for single_date in daterange(start_date, end_date):\n",
    "        flights_on_date = fetch_flights_for_date(single_date, airline)\n",
    "        all_flights.extend(flights_on_date)\n",
    "\n",
    "    if all_flights:\n",
    "        return pd.DataFrame(all_flights)\n",
    "    else:\n",
    "        return \"No data available for the given parameters\" \n",
    "\n"
   ]
  },
  {
   "cell_type": "code",
   "execution_count": 4,
   "metadata": {},
   "outputs": [
    {
     "name": "stdout",
     "output_type": "stream",
     "text": [
      "Failed to fetch data for 2024-01-15 00:00:00: 401\n",
      "Failed to fetch data for 2024-01-16 00:00:00: 401\n",
      "Failed to fetch data for 2024-01-17 00:00:00: 401\n",
      "Failed to fetch data for 2024-01-18 00:00:00: 401\n",
      "Failed to fetch data for 2024-01-19 00:00:00: 401\n",
      "Failed to fetch data for 2024-01-20 00:00:00: 401\n",
      "No data available for the given parameters\n"
     ]
    }
   ],
   "source": [
    "airline = \"Latam\"  \n",
    "start_date = \"2024-01-15\"  \n",
    "end_date = \"2024-01-20\"  \n",
    "\n",
    "df = fetch_flights(airline, start_date, end_date)\n",
    "print(df)"
   ]
  },
  {
   "cell_type": "markdown",
   "metadata": {},
   "source": [
    "# Step 2 - Data storage\n"
   ]
  },
  {
   "cell_type": "code",
   "execution_count": null,
   "metadata": {},
   "outputs": [
    {
     "ename": "",
     "evalue": "",
     "output_type": "error",
     "traceback": [
      "\u001b[1;31mRunning cells with 'python36 (Python 3.6.13)' requires the ipykernel package.\n",
      "\u001b[1;31mRun the following command to install 'ipykernel' into the Python environment. \n",
      "\u001b[1;31mCommand: 'conda install -n python36 ipykernel --update-deps --force-reinstall'"
     ]
    }
   ],
   "source": [
    "from sqlalchemy import create_engine\n",
    "\n",
    "def store_data(df, filename, database_url):\n",
    "    # Store in CSV\n",
    "    df.to_csv(filename, index=False)\n",
    "\n",
    "    # Store in SQL Database\n",
    "    engine = create_engine(database_url)\n",
    "    df.to_sql('flights', con=engine, if_exists='replace', index=False)\n"
   ]
  },
  {
   "cell_type": "code",
   "execution_count": 6,
   "metadata": {},
   "outputs": [
    {
     "name": "stdout",
     "output_type": "stream",
     "text": [
      "None\n"
     ]
    }
   ],
   "source": []
  }
 ],
 "metadata": {
  "kernelspec": {
   "display_name": "Python 3 (ipykernel)",
   "language": "python",
   "name": "python3"
  },
  "language_info": {
   "codemirror_mode": {
    "name": "ipython",
    "version": 3
   },
   "file_extension": ".py",
   "mimetype": "text/x-python",
   "name": "python",
   "nbconvert_exporter": "python",
   "pygments_lexer": "ipython3",
   "version": "3.6.13"
  }
 },
 "nbformat": 4,
 "nbformat_minor": 2
}
