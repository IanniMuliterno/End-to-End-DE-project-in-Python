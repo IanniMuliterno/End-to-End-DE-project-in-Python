{
 "cells": [
  {
   "cell_type": "code",
   "execution_count": 1,
   "id": "fa9e3eb3-9acf-4b33-9eb0-23023b01664f",
   "metadata": {},
   "outputs": [
    {
     "name": "stdout",
     "output_type": "stream",
     "text": [
      "Database 'flights' has been dropped.\n",
      "Database 'flights' has been created.\n"
     ]
    }
   ],
   "source": [
    "from sqlalchemy import create_engine, Column, Integer, String, Float, DateTime, ForeignKey, ForeignKeyConstraint\n",
    "from sqlalchemy.engine.url import URL\n",
    "from sqlalchemy_utils import database_exists, create_database, drop_database\n",
    "from sqlalchemy.orm import relationship, declarative_base\n",
    "\n",
    "user = 'postgres'\n",
    "password = 'temppass'\n",
    "host = 'localhost'\n",
    "port = '5432' \n",
    "db_name = 'flights'\n",
    "\n",
    "server_url = f'postgresql://{user}:{password}@{host}:{port}/'\n",
    "\n",
    "server_engine = create_engine(server_url)\n",
    "\n",
    "# Check if the database exists\n",
    "if database_exists(server_engine.url.set(database=db_name)):\n",
    "    # Drop the database\n",
    "    drop_database(server_engine.url.set(database=db_name))\n",
    "    print(f\"Database '{db_name}' has been dropped.\")\n",
    "\n",
    "# Create the database\n",
    "create_database(server_engine.url.set(database=db_name))\n",
    "print(f\"Database '{db_name}' has been created.\")\n",
    "\n",
    "# Dispose the engine\n",
    "server_engine.dispose()\n"
   ]
  },
  {
   "cell_type": "code",
   "execution_count": 2,
   "id": "d1405e49-59e1-4215-b5cc-c7481c0dcc94",
   "metadata": {},
   "outputs": [],
   "source": [
    "database_name = 'flights'\n",
    "\n",
    "engine = create_engine(f'mysql+pymysql://{user}:{password}@{host}:{port}/{database_name}')"
   ]
  },
  {
   "cell_type": "code",
   "execution_count": 5,
   "id": "c59f357d-6f95-4209-8365-e7e76395c7fc",
   "metadata": {},
   "outputs": [],
   "source": [
    "Base = declarative_base()\n",
    "\n",
    "class Main_tb(Base):\n",
    "    __tablename__ = 'main_flights_tb'\n",
    "    flight_date = Column(DateTime)\n",
    "    flight_status = Column(String(256))\n",
    "    dpt_id = Column(String(100), ForeignKey('dim_depart.id'))\n",
    "    arr_id = Column(String(100), ForeignKey('dim_arrival.id'))\n",
    "    airline_id = Column(String(5), ForeignKey('airlines.iata'))\n",
    "    flight_id = Column(String(5), ForeignKey('flights.iata', ondelete='CASCADE'))  # Set ondelete for cascade delete\n",
    "    aircraft_id = Column(String(5), ForeignKey('aircrafts.iata', ondelete='CASCADE'))  # Set ondelete for cascade delete\n",
    "    id = Column(String(16), primary_key=True)\n",
    "\n",
    "\n",
    "class dim_dpt(Base):\n",
    "    __tablename__ = 'dim_depart'\n",
    "    airport = Column(String(256))\n",
    "    timezone = Column(String(32))\n",
    "    iata = Column(String(3), unique=True)\n",
    "    icao = Column(String(4), unique=True)\n",
    "    terminal = Column(String(4))\n",
    "    gate = Column(String(12))\n",
    "    delay = Column(Float)\n",
    "    scheduled = Column(DateTime)\n",
    "    estimated = Column(DateTime)\n",
    "    actual = Column(DateTime)\n",
    "    estimated_runway = Column(DateTime)\n",
    "    actual_runway = Column(DateTime)\n",
    "    id = Column(String(100), primary_key=True)\n",
    "\n",
    "class dim_arr(Base):\n",
    "    __tablename__ = 'dim_arrival'\n",
    "    airport = Column(String(256))\n",
    "    timezone = Column(String(32))\n",
    "    iata = Column(String(3), unique=True)\n",
    "    icao = Column(String(4), unique=True)\n",
    "    terminal = Column(String(4))\n",
    "    baggage = Column(String(8))\n",
    "    gate = Column(String(12))\n",
    "    delay = Column(Float)\n",
    "    scheduled = Column(DateTime)\n",
    "    estimated = Column(DateTime)\n",
    "    actual = Column(DateTime)\n",
    "    estimated_runway = Column(DateTime)\n",
    "    actual_runway = Column(DateTime)\n",
    "    id = Column(String(100), primary_key=True)\n",
    "\n",
    "class Airline(Base):\n",
    "    __tablename__ = 'airlines'\n",
    "    name = Column(String(256))\n",
    "    iata = Column(String(5), primary_key=True)\n",
    "    icao = Column(String(5), unique=True)\n",
    "\n",
    "class flight(Base):\n",
    "    __tablename__ = 'flights'\n",
    "    number = Column(Integer)\n",
    "    iata = Column(String(5), primary_key=True)\n",
    "    icao = Column(String(5), unique=True)\n",
    "    codeshared = Column(String(12))\n",
    "\n",
    "class aircraft(Base):\n",
    "    __tablename__ = 'aircrafts'\n",
    "    registration = Column(String(6), unique=True)\n",
    "    iata = Column(String(5), primary_key=True)\n",
    "    icao = Column(String(5), unique=True)\n",
    "    icao24 = Column(String(6), unique=True)   \n"
   ]
  },
  {
   "cell_type": "code",
   "execution_count": null,
   "id": "1971554e-bd31-4c50-8167-69204d21549f",
   "metadata": {},
   "outputs": [],
   "source": [
    "Base.metadata.create_all(engine)"
   ]
  }
 ],
 "metadata": {
  "kernelspec": {
   "display_name": "Python 3 (ipykernel)",
   "language": "python",
   "name": "python3"
  },
  "language_info": {
   "codemirror_mode": {
    "name": "ipython",
    "version": 3
   },
   "file_extension": ".py",
   "mimetype": "text/x-python",
   "name": "python",
   "nbconvert_exporter": "python",
   "pygments_lexer": "ipython3",
   "version": "3.9.12"
  }
 },
 "nbformat": 4,
 "nbformat_minor": 5
}
