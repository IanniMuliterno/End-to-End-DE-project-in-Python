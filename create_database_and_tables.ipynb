{
 "cells": [
  {
   "cell_type": "code",
   "execution_count": null,
   "id": "fa9e3eb3-9acf-4b33-9eb0-23023b01664f",
   "metadata": {},
   "outputs": [],
   "source": [
    "from sqlalchemy import create_engine\n",
    "from sqlalchemy.engine.url import URL\n",
    "from sqlalchemy_utils import database_exists, create_database, drop_database\n",
    "\n",
    "# Replace 'username' and 'password' with your PostgreSQL credentials\n",
    "# Replace 'localhost' with your database server address if it's not local\n",
    "user = 'postgres'\n",
    "password = 'temppass'\n",
    "host = 'localhost'\n",
    "port = '5432'  # default PostgreSQL port\n",
    "db_name = 'flights'\n",
    "\n",
    "# Connection string for the PostgreSQL server, without the specific database name\n",
    "server_url = f'postgresql://{user}:{password}@{host}:{port}/'\n",
    "\n",
    "# Engine for the server connection\n",
    "server_engine = create_engine(server_url)\n",
    "\n",
    "# Check if the database exists\n",
    "if database_exists(server_engine.url.set(database=db_name)):\n",
    "    # Drop the database\n",
    "    drop_database(server_engine.url.set(database=db_name))\n",
    "    print(f\"Database '{db_name}' has been dropped.\")\n",
    "\n",
    "# Create the database\n",
    "create_database(server_engine.url.set(database=db_name))\n",
    "print(f\"Database '{db_name}' has been created.\")\n",
    "\n",
    "# Dispose the engine\n",
    "server_engine.dispose()\n"
   ]
  }
 ],
 "metadata": {
  "kernelspec": {
   "display_name": "Python 3 (ipykernel)",
   "language": "python",
   "name": "python3"
  },
  "language_info": {
   "codemirror_mode": {
    "name": "ipython",
    "version": 3
   },
   "file_extension": ".py",
   "mimetype": "text/x-python",
   "name": "python",
   "nbconvert_exporter": "python",
   "pygments_lexer": "ipython3",
   "version": "3.9.12"
  }
 },
 "nbformat": 4,
 "nbformat_minor": 5
}
