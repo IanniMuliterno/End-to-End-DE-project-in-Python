{
 "cells": [
  {
   "cell_type": "markdown",
   "metadata": {},
   "source": [
    "# Step 1 - automated data ingestion"
   ]
  },
  {
   "cell_type": "code",
   "execution_count": 5,
   "metadata": {},
   "outputs": [],
   "source": [
    "import requests\n",
    "from datetime import datetime, timedelta\n",
    "from os import environ\n",
    "import pandas as pd\n",
    "from sqlalchemy import create_engine\n",
    "import matplotlib.pyplot as plt\n",
    "import plotly.express as px\n",
    "\n",
    "\n",
    "api_key = environ.get('aviation_key')\n",
    "api_url = 'https://api.aviationstack.com/v1/flights'\n",
    "\n",
    "def daterange(start_date, end_date):\n",
    "    for n in range(int((end_date - start_date).days) + 1):\n",
    "        yield start_date + timedelta(n)\n",
    "\n",
    "def fetch_flights_for_date(flight_date, airline):\n",
    "    params = {\n",
    "        'access_key': api_key,\n",
    "        'flight_date': flight_date.strftime('%Y-%m-%d'),\n",
    "        'airline_name': airline\n",
    "    }\n",
    "    \n",
    "    response = requests.get(api_url, params=params)\n",
    "    if response.status_code == 200:\n",
    "        data = response.json().get('data', [])\n",
    "        return data\n",
    "    else:\n",
    "        print(f\"Failed to fetch data for {flight_date}: {response.status_code}\")\n",
    "        return []\n",
    "\n",
    "def fetch_flights(airline, start_date_str, end_date_str):\n",
    "    start_date = datetime.strptime(start_date_str, '%Y-%m-%d')\n",
    "    end_date = datetime.strptime(end_date_str, '%Y-%m-%d')\n",
    "    all_flights = []\n",
    "\n",
    "    for single_date in daterange(start_date, end_date):\n",
    "        flights_on_date = fetch_flights_for_date(single_date, airline)\n",
    "        all_flights.extend(flights_on_date)\n",
    "\n",
    "    if all_flights:\n",
    "        return pd.DataFrame(all_flights)\n",
    "    else:\n",
    "        return \"No data available for the given parameters\" \n",
    "\n"
   ]
  },
  {
   "cell_type": "code",
   "execution_count": 6,
   "metadata": {},
   "outputs": [
    {
     "name": "stdout",
     "output_type": "stream",
     "text": [
      "    flight_date flight_status  \\\n",
      "0    2024-01-17        landed   \n",
      "1    2024-01-17        landed   \n",
      "2    2024-01-17     scheduled   \n",
      "3    2024-01-17        landed   \n",
      "4    2024-01-17        landed   \n",
      "..          ...           ...   \n",
      "395  2024-01-20        landed   \n",
      "396  2024-01-20        landed   \n",
      "397  2024-01-20        landed   \n",
      "398  2024-01-20        landed   \n",
      "399  2024-01-20        landed   \n",
      "\n",
      "                                             departure  \\\n",
      "0    {'airport': 'Suvarnabhumi International', 'tim...   \n",
      "1    {'airport': 'Penang International', 'timezone'...   \n",
      "2    {'airport': 'Soekarno-Hatta International', 't...   \n",
      "3    {'airport': 'Nanning', 'timezone': 'Asia/Shang...   \n",
      "4    {'airport': 'Singapore Changi', 'timezone': 'A...   \n",
      "..                                                 ...   \n",
      "395  {'airport': 'Seoul (Incheon)', 'timezone': 'As...   \n",
      "396  {'airport': 'Ninoy Aquino International', 'tim...   \n",
      "397  {'airport': 'Nanjing Lukou International Airpo...   \n",
      "398  {'airport': 'Hangzhou', 'timezone': 'Asia/Shan...   \n",
      "399  {'airport': 'Singapore Changi', 'timezone': 'A...   \n",
      "\n",
      "                                               arrival  \\\n",
      "0    {'airport': 'Singapore Changi', 'timezone': 'A...   \n",
      "1    {'airport': 'Singapore Changi', 'timezone': 'A...   \n",
      "2    {'airport': 'Singapore Changi', 'timezone': 'A...   \n",
      "3    {'airport': 'Singapore Changi', 'timezone': 'A...   \n",
      "4    {'airport': 'Kuantan', 'timezone': 'Asia/Kuala...   \n",
      "..                                                 ...   \n",
      "395  {'airport': 'Singapore Changi', 'timezone': 'A...   \n",
      "396  {'airport': 'Singapore Changi', 'timezone': 'A...   \n",
      "397  {'airport': 'Singapore Changi', 'timezone': 'A...   \n",
      "398  {'airport': 'Singapore Changi', 'timezone': 'A...   \n",
      "399  {'airport': 'Kuala Lumpur International Airpor...   \n",
      "\n",
      "                                            airline  \\\n",
      "0    {'name': 'Scoot', 'iata': 'TR', 'icao': 'TGW'}   \n",
      "1    {'name': 'Scoot', 'iata': 'TR', 'icao': 'TGW'}   \n",
      "2    {'name': 'Scoot', 'iata': 'TR', 'icao': 'TGW'}   \n",
      "3    {'name': 'Scoot', 'iata': 'TR', 'icao': 'TGW'}   \n",
      "4    {'name': 'Scoot', 'iata': 'TR', 'icao': 'TGW'}   \n",
      "..                                              ...   \n",
      "395  {'name': 'Scoot', 'iata': 'TR', 'icao': 'TGW'}   \n",
      "396  {'name': 'Scoot', 'iata': 'TR', 'icao': 'TGW'}   \n",
      "397  {'name': 'Scoot', 'iata': 'TR', 'icao': 'TGW'}   \n",
      "398  {'name': 'Scoot', 'iata': 'TR', 'icao': 'TGW'}   \n",
      "399  {'name': 'Scoot', 'iata': 'TR', 'icao': 'TGW'}   \n",
      "\n",
      "                                                flight  \\\n",
      "0    {'number': '607', 'iata': 'TR607', 'icao': 'TG...   \n",
      "1    {'number': '427', 'iata': 'TR427', 'icao': 'TG...   \n",
      "2    {'number': '277', 'iata': 'TR277', 'icao': 'TG...   \n",
      "3    {'number': '115', 'iata': 'TR115', 'icao': 'TG...   \n",
      "4    {'number': '470', 'iata': 'TR470', 'icao': 'TG...   \n",
      "..                                                 ...   \n",
      "395  {'number': '841', 'iata': 'TR841', 'icao': 'TG...   \n",
      "396  {'number': '391', 'iata': 'TR391', 'icao': 'TG...   \n",
      "397  {'number': '181', 'iata': 'TR181', 'icao': 'TG...   \n",
      "398  {'number': '189', 'iata': 'TR189', 'icao': 'TG...   \n",
      "399  {'number': '452', 'iata': 'TR452', 'icao': 'TG...   \n",
      "\n",
      "                                              aircraft  live  \n",
      "0    {'registration': '9V-OJH', 'iata': 'B789', 'ic...  None  \n",
      "1                                                 None  None  \n",
      "2                                                 None  None  \n",
      "3                                                 None  None  \n",
      "4                                                 None  None  \n",
      "..                                                 ...   ...  \n",
      "395  {'registration': '9V-OFC', 'iata': 'B788', 'ic...  None  \n",
      "396  {'registration': '9V-NCF', 'iata': 'A21N', 'ic...  None  \n",
      "397  {'registration': '9V-OFE', 'iata': 'B788', 'ic...  None  \n",
      "398  {'registration': '9V-OFI', 'iata': 'B788', 'ic...  None  \n",
      "399                                               None  None  \n",
      "\n",
      "[400 rows x 8 columns]\n"
     ]
    }
   ],
   "source": [
    "airline = \"Scoot\"  \n",
    "start_date = \"2024-01-15\"  \n",
    "end_date = \"2024-01-20\"  \n",
    "\n",
    "df = fetch_flights(airline, start_date, end_date)\n",
    "print(df)"
   ]
  },
  {
   "cell_type": "markdown",
   "metadata": {},
   "source": [
    "# Step 2 - Data storage\n"
   ]
  },
  {
   "cell_type": "code",
   "execution_count": 9,
   "metadata": {},
   "outputs": [],
   "source": [
    "def store_data(df, filename, database_url):\n",
    "    # Store in CSV\n",
    "    df.to_csv(filename, index=False)\n",
    "\n",
    "    # Store in SQL Database\n",
    "    engine = create_engine(database_url)\n",
    "    df.to_sql('flights', con=engine, if_exists='replace', index=False)\n"
   ]
  },
  {
   "cell_type": "markdown",
   "metadata": {},
   "source": [
    "# Step 3 - Data Querying and filtering"
   ]
  },
  {
   "cell_type": "code",
   "execution_count": null,
   "metadata": {},
   "outputs": [],
   "source": [
    "def query_data(engine, airline=None, origin=None, destination=None):\n",
    "    query = \"SELECT * FROM flights WHERE 1=1\"\n",
    "    if airline:\n",
    "        query += f\" AND airline = '{airline}'\"\n",
    "    if origin:\n",
    "        query += f\" AND origin = '{origin}'\"\n",
    "    if destination:\n",
    "        query += f\" AND destination = '{destination}'\"\n",
    "    \n",
    "    return pd.read_sql(query, con=engine)\n"
   ]
  },
  {
   "cell_type": "markdown",
   "metadata": {},
   "source": [
    "# Step 4 - Analyzing the Data"
   ]
  },
  {
   "cell_type": "code",
   "execution_count": null,
   "metadata": {},
   "outputs": [],
   "source": [
    "def analyze_data(df):\n",
    "    total_flights = len(df)\n",
    "    average_duration = df['duration'].mean()\n",
    "    flights_per_airline = df['airline'].value_counts()\n",
    "    return total_flights, average_duration, flights_per_airline\n"
   ]
  },
  {
   "cell_type": "markdown",
   "metadata": {},
   "source": [
    "# Step 5 - Visualizations"
   ]
  },
  {
   "cell_type": "code",
   "execution_count": null,
   "metadata": {},
   "outputs": [],
   "source": [
    "def plot_data(df):\n",
    "    # Using Matplotlib for a simple histogram\n",
    "    plt.figure(figsize=(10, 5))\n",
    "    plt.hist(df['duration'], bins=20, color='blue')\n",
    "    plt.title('Flight Duration Distribution')\n",
    "    plt.xlabel('Duration (Minutes)')\n",
    "    plt.ylabel('Number of Flights')\n",
    "    plt.show()\n",
    "\n",
    "    # Using Plotly for interactive charts\n",
    "    fig = px.bar(df, x='airline', y='duration', title='Average Flight Duration by Airline')\n",
    "    fig.show()\n"
   ]
  }
 ],
 "metadata": {
  "kernelspec": {
   "display_name": "Python 3 (ipykernel)",
   "language": "python",
   "name": "python3"
  },
  "language_info": {
   "codemirror_mode": {
    "name": "ipython",
    "version": 3
   },
   "file_extension": ".py",
   "mimetype": "text/x-python",
   "name": "python",
   "nbconvert_exporter": "python",
   "pygments_lexer": "ipython3",
   "version": "3.9.12"
  }
 },
 "nbformat": 4,
 "nbformat_minor": 4
}
